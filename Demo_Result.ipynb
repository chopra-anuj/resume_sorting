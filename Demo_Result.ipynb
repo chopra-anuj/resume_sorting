{
 "cells": [
  {
   "cell_type": "markdown",
   "metadata": {},
   "source": [
    "## Sample Job Description for Data Scientist job"
   ]
  },
  {
   "cell_type": "code",
   "execution_count": 6,
   "metadata": {
    "scrolled": true
   },
   "outputs": [
    {
     "name": "stdout",
     "output_type": "stream",
     "text": [
      "position specification lead data scientist for bidgely page 2 of 3 position specification position company location lead data scientist bidgely bangalore, india company background data science is the blood that runs in our veins at bidgely  it is 100  central to our technology, our products and our business  we work on building cutting edge solutions using the energy and user behaviour data from millions of homes  the company offers the highest possible leverage for a data scientist to use their passion and make a difference in the company and in making the world more energy efficient  it s an exciting time in the company s evolution  we just closed our series c of  27m, have acquired some of the biggest names in the industry as customers, and we re breaking ground on new products and markets  learn more about us at bidgely com and about our recent series c announcement  the business overview have you imagined why your credit card and phone statements are itemized but your energy bill has no information about where you spend the energy  ever wonder how much energy gets wasted across the world when people can t even measure where and how much inefficient they are  bidgely with its cutting edge machine learning technology is chipping away at these problems by identifying what appliances are running in the home purely using software analytics on meter data  our solution is available to consumers via their electric, solar and gas utility providers  as the industry s first enterprise energy analytics and customer engagement platform provider, bidgely s utility artificial intelligence  ai  solutions transform utility meter data into business intelligence for optimizing shareholder value, personalizing the customer experience and modernizing the grid  bidgely s mission to be a trusted ai partner helps utilities solve daily challenges related to home energy management, customer satisfaction, operational efficiency and new revenue models  with roots in silicon valley, the company has invested  30m in r&d, driven by data scientists, product managers and engineers, and brings a passion for ai to utilities serving residential customers around the world  for more information, please visit www bidgely com or the bidgely blog at bidgely com blog  the person the lead data scientist position offers an opportunity to work on a wide variety of problems that go well beyond the traditional model building process  you will be a part of a nimble team solving real world problems through innovative use of ai techniques that go well beyond the traditional model building process  as a senior team member you will be responsible for driving data science projects to completion   starting from converting a business objective to a data science problem and ending with measuring the impact of the solution in the real world  what can artificial intelligence do to reinvent the energy industry  this is your opportunity to join a world-class team and help us figure that out  we re solving big, hairy problems to make the world a better place, and we re having fun doing it  page 3 of 3 skills   research and develop machine learning models for energy disaggregation  this includes adding new appliance categories and improving accuracy of existing appliance categories, and discovering short long-term patterns and trends    collaborate with product, marketing and engineering teams to leverage data science to solve cross-disciplinary problems      actively contribute to multiple products and provide technical leadership to junior members of the team  5+ years of relevant experience in machine learning, deep learning, neural networks, recommender etc  work experience in a product company preferred   ability to perform data exploration to understand user behaviour and identify opportunities for building recommendation algorithm and image classifications        experience with large datasets and modern data processing systems like hadoop, spark, hive etc  strong background in data mining, machine learning and statistical analysis  strong depth and breadth of knowledge in different areas of machine learning, recommender systems, computer vision as well as reasonable programming and design skills to manipulate images data sets and build prototypes that work on massive datasets   keen aptitude for large scale data analysis with a knack for identifying key insights from data  education qualification the ideal candidate should be bachelors masters ph d  in computer science or equivalent degree and work experience  we would love to get you on boarded with the above essentials for the role  with a very good fixed, variable and esop s at play rinalytics contacts bhaskar akula talent search consultant- analytics & data scieince rinalytics advisors mobile  +91- 7026821485 email bhaskar rinalytics com about rinalytics advisors rinalytics advisors - retained talent search in analytics, big data, data science and risk management is all we do and we do it well    rinalytics is a super specialized retained talent search firm focused exclusively in analytics, big data, data science and risk management talent hiring cutting across the industry sectors    founded by veterans in the executive search business, with deep subject matter expertise and reach leveraged through industry leaders as its board members    we have adopted a unique search methodology in terms of our approach to talent search  the process involves rigorous and consultative approach to identify the best suited prospect, not the first available candidate    we serve ourselves as  chief analytics talent advisor  to our clients  visit us at www rinalytics com page 4 of 3 \n"
     ]
    }
   ],
   "source": [
    "jd_emb = get_embedding_from_filename(\"data/jd/Position Specification Document_Lead Data scientist_Bidgely.pdf\")\n",
    "print(get_clean_text(\"data/jd/Position Specification Document_Lead Data scientist_Bidgely.pdf\"))"
   ]
  },
  {
   "cell_type": "markdown",
   "metadata": {},
   "source": [
    "## Ranked CVs from most matching to least matching"
   ]
  },
  {
   "cell_type": "code",
   "execution_count": 8,
   "metadata": {
    "scrolled": true
   },
   "outputs": [
    {
     "data": {
      "text/plain": [
       "{'Ankur Pal .pdf': 0.01105588674545288,\n",
       " 'Chandramani Tiwary.pdf': 0.011788904666900635,\n",
       " 'kishore K.pdf': 0.015840351581573486,\n",
       " 'Roshni Mohandas.pdf': 0.01878422498703003,\n",
       " 'Lakshay Kalra.pdf': 0.019573748111724854,\n",
       " 'Pankaj Bhatia .pdf': 0.02474534511566162,\n",
       " 'AnujChopra.pdf': 0.02589625120162964,\n",
       " 'Sandeep Kohli .pdf': 0.026160597801208496,\n",
       " 'Naveen Benny.pdf': 0.026773273944854736,\n",
       " 'Abhishek Saxena .pdf': 0.02850329875946045,\n",
       " 'Ritesh Jain.pdf': 0.029210686683654785,\n",
       " 'Akanksha Juneja.pdf': 0.030516982078552246,\n",
       " 'Chinmaya Behera.pdf': 0.032854676246643066,\n",
       " 'Garima Gupta.pdf': 0.03327524662017822,\n",
       " 'Amit Bharat.pdf': 0.035374462604522705,\n",
       " 'Nikita Katyal.pdf': 0.03559476137161255,\n",
       " 'Som Bose .pdf': 0.04092520475387573,\n",
       " 'Vinit Sharswat.pdf': 0.04157531261444092,\n",
       " 'Sangeetha Ramasamy .pdf': 0.04342728853225708,\n",
       " 'Rahul Khandelwal.pdf': 0.04546821117401123,\n",
       " 'Ishita Gohil .pdf': 0.0455632209777832,\n",
       " 'Saumya Dubey .pdf': 0.04599732160568237,\n",
       " 'Sourav Sharma .pdf': 0.046863019466400146,\n",
       " 'Jisha George.pdf': 0.04695010185241699,\n",
       " 'Jaya Sharma .pdf': 0.04894918203353882,\n",
       " 'Kavita Saini.pdf': 0.05203878879547119,\n",
       " 'Aditi Mathur.pdf': 0.05397343635559082,\n",
       " 'Priya Singh .pdf': 0.05694878101348877,\n",
       " 'Karthik Y .pdf': 0.05733656883239746,\n",
       " 'Nimisha O K.pdf': 0.05938851833343506,\n",
       " 'Sampath Kumar .pdf': 0.05952650308609009,\n",
       " 'Pragya Bang .pdf': 0.05987358093261719,\n",
       " 'Sagar Saha.pdf': 0.06195610761642456,\n",
       " 'Ankita Singhal.pdf': 0.06358814239501953,\n",
       " 'Rahul Joshi .pdf': 0.06425946950912476,\n",
       " 'Mayank Shivam.pdf': 0.06462621688842773,\n",
       " 'Ramnik Jain.pdf': 0.06601196527481079,\n",
       " 'Anamika Sirohi .pdf': 0.06625533103942871,\n",
       " 'Purvaa Kapadia.pdf': 0.06653857231140137,\n",
       " 'Shivani Kapoor .pdf': 0.06892216205596924,\n",
       " 'Shalini Raghavan .pdf': 0.06927061080932617,\n",
       " 'Sanjay Yelisetti .pdf': 0.07055717706680298,\n",
       " 'Kokila Borana .pdf': 0.0711745023727417,\n",
       " 'Mohammed Shad Jamal.pdf': 0.0712842345237732,\n",
       " 'Rohan Lele .pdf': 0.07272720336914062,\n",
       " 'Swati Bajaj .pdf': 0.07274138927459717,\n",
       " 'Vrajesh Jha.pdf': 0.07320034503936768,\n",
       " 'Shubham Chawla.pdf': 0.07650381326675415,\n",
       " 'Yashodhara Lal .pdf': 0.07682126760482788,\n",
       " 'Tanmoy Ghosh .pdf': 0.07774454355239868,\n",
       " 'Jitendra Chordia .pdf': 0.0822293758392334,\n",
       " 'Karan Arora.pdf': 0.08306050300598145,\n",
       " 'Shikhar Mishra.pdf': 0.08321893215179443,\n",
       " 'Kanika Mittal .pdf': 0.08743470907211304,\n",
       " 'Navaneetha Kumar.pdf': 0.09169930219650269,\n",
       " 'Bheemsha LT.pdf': 0.09227216243743896,\n",
       " 'Chris Roshal .pdf': 0.09422564506530762,\n",
       " 'Neeraj. Juneja .pdf': 0.09491616487503052,\n",
       " 'Gunjan R. Arora .pdf': 0.09521406888961792,\n",
       " 'Gokul Mahesh .pdf': 0.10277533531188965,\n",
       " 'Palak Kapoor.pdf': 0.10374391078948975,\n",
       " 'Deepali Soni .pdf': 0.10589998960494995,\n",
       " 'Vikas (Shridhar) Dalvi .pdf': 0.10714811086654663,\n",
       " 'Rajat Jain .pdf': 0.10915130376815796,\n",
       " 'Preethi Thomas.pdf': 0.1134234070777893,\n",
       " 'Shakthi Hari N V.pdf': 0.11419379711151123,\n",
       " 'Rohit Nayyar.pdf': 0.12001889944076538,\n",
       " 'Deepti Agrawal .pdf': 0.12063556909561157,\n",
       " 'Ankit chopra CV.pdf': 0.12226903438568115,\n",
       " 'Siddharth Bhatt.pdf': 0.12791383266448975,\n",
       " 'Pavithra Seshadri .pdf': 0.1293143630027771,\n",
       " 'Parina Gandhi .pdf': 0.13124996423721313,\n",
       " 'Shobhna Mathur.pdf': 0.13424831628799438,\n",
       " 'SuryaDeepti RoyChoudhury.pdf': 0.140464186668396,\n",
       " 'Palash Sharma .pdf': 0.15132451057434082,\n",
       " 'Prachi Sharma.pdf': 0.16283875703811646,\n",
       " 'Purushotham Chikkanna .pdf': 0.16930794715881348,\n",
       " 'karthik prasad .pdf': 0.18411290645599365,\n",
       " 'Dhruv Goel.pdf': 0.22681277990341187,\n",
       " 'Chhavi Tyagi .pdf': 0.300597608089447}"
      ]
     },
     "execution_count": 8,
     "metadata": {},
     "output_type": "execute_result"
    }
   ],
   "source": [
    "embeddings = {}\n",
    "for cv in all_cv:\n",
    "    embeddings[cv] = get_embedding_of_string(all_cv[cv])\n",
    "    \n",
    "distances = {}\n",
    "for emb in embeddings:\n",
    "    distances[emb] = cosine_dist(jd_emb, embeddings[emb])\n",
    "    \n",
    "sorted_dist = {k: v for k, v in sorted(distances.items(), key=lambda item: item[1])}\n",
    "sorted_dist"
   ]
  },
  {
   "cell_type": "markdown",
   "metadata": {},
   "source": [
    "### Some Examples of matching cv"
   ]
  },
  {
   "cell_type": "code",
   "execution_count": 27,
   "metadata": {
    "scrolled": true
   },
   "outputs": [
    {
     "data": {
      "text/plain": [
       "'contact www linkedin com in ankur-pal  linkedin  ankur pal head of data science , machine learning & artificial intelligence at payzello bengaluru, karnataka, india top skills analytics sql c languages english  professional working  hindi  native or bilingual  bengali  elementary  certifications oracle certified associate six sigma green belt certified honors-awards placed in top 10 teams in a social b- plan competition organised by iim ranchi summary over the years i have accrued progressive experience in applied machine learning and building deep learning solutions to meet real-world needs, with a focus on utilization of leading architectures  dnn s, cnn s, auto-encoders, variational auto-encoders   i possess the capability to design and build an entire deep machine learning infrastructure along with designing,  train advanced  machine and deep learning algorithms on a gpu predominantly using tensorflow   as a leader , i have led several big data research and data science teams while pairing with machine learning researchers, engineers to maximize the speed of experimentation and production  my interest includes  machine learning, image processing, computer vision, gpu deep learning, algorithmic game theory, reinforcement learning, bayesian machine learning, kaggle, autoencoders and convolutional neural networks  cnn   i am skilled in artificial intelligence, machine learning, deep learning, graph analysis and natural language processing  word2vec, doc2vec, word embeddings, topic modelling, web crawling, sentiment analysis, facebook and twitter analysis, document classification and text summarization   i work with big data analysis  unstructured data, pattern recognition, sentiment analysis, geo-spatial location and social network analysis  and a i  applied to business and strategy and iot  i have worked on following  page 1 of 6   machine learning pipelines tools  tensorflow, keras, spark, r, pyspark, xgboost, sk-learn, python, numpy, scipy, opencl, opencv, caffe, matplotlib, pandas, seaborn, bokeh    programming  python  4 years , jupyter, c++ c++11  3 years  ,r  4 years     gpu libraries  pycuda, pytorch    big data technologies  state of the art big data architectures , spark, hadoop, hdfs, kafka, emr, ec2, cloudera, google bigquery datalab, docker, nvidia-docker  experience payzello chief data scientist june 2017 - present hyderabad area, india payzello is india s first ever neo bank challenging the very definition of banking in india  with our comprehensive features and services ranging from a single virtual card for both debit and credit to app based credit to money transfer and request mechanism, end to end expense management, bharat qr to three minutes e   kyc process and much more in a single click and of course zero paperwork , we are here to ensure you never have to walk into a physical bank ever again  leading team of data scientists , machine learning engineers , deep learning , computer vision ,nlp experts   -key responsibilities - setting up the entire practice for analytics and machine learning based credit risk underwriting and decision making on unstructured loans    explore and integrate diverse sources of data such as bureaus  cibil transunion, experian, equifax, crif highmark , government data  uaidai aadhar, voters id , customer financials  bank data , demographics, social page 2 of 6 networks, browser, psychographics and other unstructured data from diverse sources into credit decision making   customer segmentation and related products and servicing development   credit risk scorecard development and deployment   loan pricing and collection strategy -chatbot  ello  - ai and deep learning to build intelligent conversational agent  my work involves building deep learning platform for conversational agents using different neural net architectures like rnn, lstm , cnn , memory network etc - reinforcement learning based automated deduction algorithms for saving goals   - personalised solution and automated expense tracking using customer sms data   - ai based smart budgeting solution for customer   - reinforcement based recommendation system   - customer churn and survival model   - deep learning based customer propensity model   -building an image classification localisation and detection  and captioning system using cnn and rnn  iii consulting private limited vp technology   data science december 2017 - october 2018  11 months  hyderabad area, india iii consulting is a start-up studio which provides capital and consulting services to incubate start-ups with exceptional ideas  we help entrepreneurs build outstanding companies  we work with passionate and talented entrepreneurs from an early stage throughout their journey of building a successful company  we work closely with the founders and understand the needs of each of our start-ups  portfolio companies - 1  payzello   payzello com  2  thirdwave coffee   thirdwavecoffee in  3  actigage  www actigage com  4  goodvice  www goodvice com  page 3 of 6 5  orxa energy  www orxaenergies com  zestmoney lead data scientist september 2016 - june 2017  10 months  bengaluru area, india india s first virtual emi, enabling credit, without the card  the zest platform enables instant account opening and real time credit approval, combined with seamless digital loan servicing and repayments technology   https    zestmoney in   key responsibilities - setting up the entire practice for analytics and machine learning based credit risk underwriting and decision making on unstructured loans    customer segmentation and related products and servicing development   credit risk scorecard development and deployment   loan pricing and collection strategy fabulyst pvt  ltd  ai consultant november 2016 - february 2017  4 months  bengaluru area, india objective of this project is to build a personalized fashion stylist that can not only detect face shape, skintone, eliminate background etc , but also converse and understand user s intent and extract key information and respond to user queries  1  computer vision components a  face shape detection - from a selfie image irrespective of user pose, angle of the image taken, etc , extract the shape of the face and identify key points b  skin tone detection   identify the pixel intensities in rgb color space or hsv color space and further classify the pixel intensities in to skin tone classes such as  warm ,  cool ,  neutral   as per the style theory certain colors go well with skin tone types  page 4 of 6 c  3-d face mesh creation   idea is to extract the face shape of the user from selfie image and map the face shape and key points to a 3-d mesh creation  this will help in creating a 3-d avatar of user from a selfie image  2  chatbot   virtual stylist create a conversational chat bot that can handle user queries in real time & give them personal styling based suggestion advice to users  it involves following components  - creating a keyword dictionary from corpus - classify the query into user intent - populate the intent parameters from user query shadowfax technologies pvt ltd data scientist october 2015 - september 2016  1 year  bangalore shadowfax is india s largest hyperlocal logistics service provider that takes care of delivery requirements of local businesses  by using our proprietary technology and operational excellence, we strive to build the fastest and the most efficient delivery network   shadowfax in affine analytics senior business analyst april 2015 - october 2015  7 months  experience involves developing rfm model , category score card model , market basket analysis , credit score card model ,customer segmentation , life time value analysis , cohort analysis ,recommendation system , wallet share estimation ,churn analysis, demand forecast ,arima modeling, text analysis, sentiments analysis, topic modeling, web scraping  the world bank summer research intern june 2014 - july 2014  2 months  new delhi area, india project 1 - development of management information system project 2 - tracer study - the main objective of the study was to measure labor market performance of graduates passed out from various types of institutions   page 5 of 6 tata consultancy services researcher & developer july 2012 - august 2013  1 year 2 months  mumbai area, india analytics projects - rfm recency , frequency , monetary value   analysis on bank customers to identify most profitable segments k-means & hierarchical clustering to create retail store clusters based on sales by category average sales per square foot ols linear regression model to predict commodity price as a function of various independent variables credit scoring model for bank customers using logistic regression to predict future customer response identification of decision tree split variables using measures such as gini coefficient , entropy , information gain & chi square multiple level binary decision tree splits using cart approach to determine most profitable customer seqments ericsson summer engineering intern june 2011 - july 2011  2 months  guwahati area, india 2 months industrial training on ran  radio access network  at ericsson india pvt ltd   education indian school of business finance & strategy , analytics delhi college of engineering master s degree, information technology management and advanced analytics national institute of technology silchar bachelor of technology  b tech  , computer science and engineering    2008 - 2012  page 6 of 6 '"
      ]
     },
     "execution_count": 27,
     "metadata": {},
     "output_type": "execute_result"
    }
   ],
   "source": [
    "all_cv[\"Ankur Pal .pdf\"]"
   ]
  },
  {
   "cell_type": "code",
   "execution_count": 25,
   "metadata": {
    "scrolled": true
   },
   "outputs": [
    {
     "data": {
      "text/plain": [
       "'contact www linkedin com in  chandramanitiwary  linkedin  github com chandramani  other  chandramanitiwary wordpress com   other  chandramani tiwary machine learning architect bengaluru, karnataka, india summary top skills machine learning data mining predictive analytics languages hindi  native or bilingual  bengali  native or bilingual  english  professional working  certifications data analysis machine learning computing for data analysis honors-awards amdocs india innovator of the year recognition reward from amdocs  recognition reward from amdocs  publications learning apache mahout a professional passionate about developing data products, firm believer in the philosophy of ideate, prototype & ship  major responsibilities & achievements    first member of the data science team at gainsight, built the data science division from scratch which includes the consulting and the data science product team   complete ownership of data science vision & roadmap, have ideated, prototyped and shipped multiple product features   nurturing buy-in for product features in close collaboration with cxos, engineering and product management teams   process definition & best practices for data products & consulting projects   successfully mentored multiple team members to success  motivated by the idea of technology transforming society and particularly interested in using data science to solve real life problems  evangelizing data science in my free time  have on and off advised a few start-ups  author of the book  learning apache mahout  published by packt publishing, currently working on my second book  practical machine learning   checkout book - https   www packtpub com mapt book  big data and business intelligence 9781783555215 experience mybliss principal architect december 2018 - present bengaluru area, india platform and data science  page 1 of 4 gainsight 5 years 9 months principal data scientist ii july 2018 - november 2018  5 months  hyderabad, telangana, india principal data scientist i july 2016 - june 2018  2 years  hyderabad area, india first member of the data science team, build the team from scratch  complete ownership of data science road-map, ideation, development and productization of data science product feature  projects  sally the chat bot   ai driven bot to help users easily navigate, query and perform simple actions on the gainsight product    expose gainsight s data in collaboration tools like slack via natural language queries  to have an overview check this video  text analytics features aspect based context analysis   identify context and the target of the context, positive, negative & suggestions  for an overview, visit this link  automated theme detection   summarize a set of documents into a hierarchy of themes    summarize the context on each level of the hierarchy  lead data scientist march 2013 - june 2016  3 years 4 months  hyderabad area, india ideating, prototyping & shipping data science product feature   responsibilities data science product feature development  mentoring other data scientists in team  machine learning features context based ranking & scoring   self-help data science to contextually score rank data points page 2 of 4 consulting project automation   the products focus is on building automated workflows for deploying models for customer success management use cases and deriving interesting insights about customers out of the box  customer analytics   this study is focused on identification of customers at risk, identify up-sell opportunities and develop customer segmentation models    defined the process & best practices for consulting projects and moved on product feature development  wipro infotech ltd module lead - big data analytics august 2012 - march 2013  8 months  bengaluru area, india part of the cto team  worked on developing machine learning pocs on different business use- cases  projects  location and intent identification   poc on an application which derives a subscriber s important locations, intent, searched entities and historical interests to provide product recommendation  unique entity identification   an application to identify unique social media identities across different social media applications  amdocs subject matter expert october 2010 - august 2012  1 year 11 months  pune area, india part of the data practice and amdocs consulting division as a data engineer    was first member of the innovation cell started by my manager, prototyped big data analytics use-cases    was awarded innovator of the year for my poc on churn prediction within the amdocs platform  saba intern december 2009 - may 2010  6 months  page 3 of 4 responsibilities included creating, updating and maintaining automation scripts using silktest automation software  execution of regression suites and test plans  education symbiosis institute of computer studies and research master of science  m sc  , computer application    2008 - 2010  college of commerce b sc, mathematics    2004 - 2008  page 4 of 4 '"
      ]
     },
     "execution_count": 25,
     "metadata": {},
     "output_type": "execute_result"
    }
   ],
   "source": [
    "all_cv[\"Chandramani Tiwary.pdf\"]"
   ]
  },
  {
   "cell_type": "code",
   "execution_count": 26,
   "metadata": {
    "scrolled": true
   },
   "outputs": [
    {
     "data": {
      "text/plain": [
       "'contact www linkedin com in kishorekommi  linkedin  kishore k  data scientist at bosch center for artificial intelligence at bosch bengaluru, karnataka, india top skills r python data science languages telugu  native or bilingual  english  full professional  hindi  native or bilingual  certifications neural networks and deep learning honors-awards syngenta crop challenge runner up top innovator worldquant silver award post graduate assistant ship mcm scholarship patents plant disease risk prediction method with temperature, humidity and its calculated variables experience bosch data scientist at bosch center for artificial intelligence july 2015 - present india 1  responsible for plantect s disease prediction feature development and deployment  plantect is a disease risk prediction system for greenhouse farming  b  enabled product launch to market within 1 year  c  instrumental in securing government funding grant  3 m euros - japan  d  filed a patent application  e  closely collaborated with fuji  rbjp team, plantect product owner, to shape the product, in experiment design and results validation  2  performed usecase consullting for bosch rexroth, china for smart manufacturing  3  initiated  welcome kit concept  to enhance on boarding process for the team  4  2017 finalist in bosch discovery team challenge   cross functional, international startup team initiative by bosch  5  represented bosch in 2016 syngenta crop challenge and stood as a runnerup  worldquant llc research consultant september 2014 - present   conceptualized 400 alphas  quantitative trading strategies  in mathematical expressions  back tested ideas on websim platform   researched and implemented mean-reversion, behavioral exploitative, technical and fundamental alphas   created 278 alphas that qualified for out sample tests, extracting profits from market inefficiencies page 1 of 3   achieved an out sample sharpe ratio of 6 91 in delay 0 with a maximum draw-down of only 0 7  in us top 3000 stocks   selected for position being in top 1  contestants from usa, china & india in websim global contest 2014 business club indian institute of technology kharagpur student advisor april 2013 - april 2015  2 years 1 month  kharagpur area, india  instrumental in establishing club as official finance, consulting and analytics club under technology students gymkhana , iit kgp   instrumental in organizing three editions of indian case challenge, featuring 2000+ participants   introduced and taught a series of knowledge sessions on technical & fundamental analysis   devised recruitment schema for the first time & co-organised recruitment drive 40 members from 200 lala lajpat rai hall of residence second senate member may 2013 - april 2014  1 year  indian institute of technology kharagpur   elected by an electorate of 378 boarders as ssm to hold the second highest position in llr hall   led a team of 6 general secretaries and 23 secretaries, managed a budget of inr 7 48 lakhs   co-organised inter-hall tech events practice sessions, securing application cup in technology general championship   spearheaded a team of 120, winning silver medals in illumination and rangoli events inter-iit organizing team member of inter iit sportsmeet 2011 january 2011 - december 2011  1 year    designed event s banners and signboards resulting in reduction of 50  help calls to control tent   monitored food & accommodation arrangements for 320 participants from 3 contingents   collaborated with a team of 5 volunteers ensuring smooth conduction of volleyball event page 2 of 3 shaurya design team member january 2011 - december 2011  1 year  education institute  indian institute of technology masters, financial engineering    2010 - 2015  indian institute of technology, kharagpur bachelor of technology - btech, biotechnology and biochemical engineering    2010 - 2015  jawahar navodaya vidyalaya, nellore high school page 3 of 3 '"
      ]
     },
     "execution_count": 26,
     "metadata": {},
     "output_type": "execute_result"
    }
   ],
   "source": [
    "all_cv[\"kishore K.pdf\"]"
   ]
  },
  {
   "cell_type": "markdown",
   "metadata": {},
   "source": [
    "### Some examples of unmatching CV"
   ]
  },
  {
   "cell_type": "code",
   "execution_count": 9,
   "metadata": {
    "scrolled": true
   },
   "outputs": [
    {
     "data": {
      "text/plain": [
       "'contact www linkedin com in karthik- y-3822908  linkedin  top skills digital marketing brand management sales karthik y gm & head - marketing and product management, jockey india bengaluru, karnataka, india experience page industries ltd february 2016 - present gm & head - marketing and product management, jockey india handling leadership responsibility to drive the marketing agenda of brand jockey  heading teams in-charge of marketing functions including brand strategy and communication  media, research and trade marketing  product portfolio management and retail merchandising  retail marketing and visual merchandising  responsible for brand health and business growth of jockey in india, uae and sri lanka  titan company limited 6 years 8 months product head - fastrack october 2015 - january 2016  4 months  handled design, development and management of the product portfolio of brand fastrack  responsible for the overall business objective of the existing portfolio and incubation and launch of new product categories for the brand  brand manager - fashion, sport and kids april 2012 - september 2015  3 years 6 months  handled product, communication and brand strategy of modern clusters of titan watches - automatics, edge, htse, octane, purple, tagged and zoop  also in-charge of digital marketing, e-commerce, social media and modern format retailing of brand titan  area sales manager - fastrack and license brands april 2010 - march 2012  2 years  handled direct and channel sales, and retail of brand fastrack  watches, sunglasses and accessories , tommy hilfiger  watches , hugo boss  watches , and french connection  watches  in karnataka, tamil nadu, kerala and goa  management trainee june 2009 - march 2010  10 months  page 1 of 2 jun2009 - aug2009  titan marketing - responsible for planning and execution of  titan exchange offer 2009 , annual titan consumer activation sep2009 - mar2010  sonata sales - as a sales officer, handled direct and channel sales of sonata watches in upcountry maharashtra based out of pune  icici bank summer intern april 2008 - may 2008  2 months  served as a summer intern for 2 months and undertook the following projects  1  person organisation cultural fit  implications for individual performance 2  exploratory research on mbti type and its probable influencers education t a pai management institute pgdm, marketing    2007 - 2009  page 2 of 2 '"
      ]
     },
     "execution_count": 9,
     "metadata": {},
     "output_type": "execute_result"
    }
   ],
   "source": [
    "all_cv[\"Karthik Y .pdf\"]"
   ]
  },
  {
   "cell_type": "code",
   "execution_count": 12,
   "metadata": {
    "scrolled": true
   },
   "outputs": [
    {
     "data": {
      "text/plain": [
       "'ankit chopra contact  8894605130   bengaluru  karnataka  e-mail  chopra ankit5 gmail com professional experience market research analyst  healthcare it and life sciences department  at tracxn technologies  aug 19- present   duties     creating and produce market research reports on specific products and markets in healthcare department    making recommendations to senior managers based upon research findings        having to deal with press, trade and customer enquiries  defining target markets and opportunities within them  processing and analysing raw data into reports for senior managers    work with external data suppliers regarding data accuracy and integrity    responsible for the development of client reports on current trends  ccc aaa rrr eee eee rrr ooo bbb jjj eee ccc ttt iii vvv eee to work in an environment which is highly conducive to learn and which provides me with the opportunities to achieve organizational goals with zeal  sss kkk iii lll lll sss eee ttt a candidate with b sc and m sc degree in biotechnology  technical skill set             electrophoretic techniques spectrophotometer elisa   enzyme linked immunosorbent assay  chromatographic techniques centrifugation pcr  polymerase chain reaction  ppp rrr ooo jjj eee ccc ttt uuu nnn ddd eee rrr ttt aaa kkk eee nnn major project  medicinal value of himalayan herb               plant used was adiantum capillus-veneris  example how i have done one of the test   nitric oxide test process - phosphate buffer saline, nitroprusside, sulfanilic acid, napthylethylene diamine dichloride chemicals are used for this test  2 ml of sodium nitroprusside in 0 5 ml of pbs was mixed with 0 5 ml of extract at various concentrations  incubated at 23 c for 150 min 0 5 ml was taken out from the incubated solution and added into 1 ml of sulfanilic acid reagent  0 33   in 20   glacial acetic acid   incubated at rt 23 c for 5 min finally, 1 ml of ned  0 1  v v  was mixed, incubated at rt for 30 min absorbance at 540 nm was measured with a spectrophotometer  methodology                nitric oxide test super oxide test dpph test total phenol content total flavonoids content antimicrobial test phytochemical screening  result      all the antioxidant test for adiantum capillus veneris was successful and has given positive results antimicrobial activity the zone of inhibition for bacillus subtilis was positive but for vibrio chlorea and e coli it were negative    the methanol extract of leaves of adiantum capillus veneris showed the presence of flavonoids, terpenoids, saponins, tannins and reducing sugar    whereas, the anthraquinones and cardiac glycosides were absent in methanol extract of sample  minor project  on food quality assessment       this project is focussed on food quality assessment  in this project, i have done total protein, total nitrogen and total carbohydrate content  i have used the modified lowry method  result        the standard curve for total protein content for different food material gives us positive result the total nitrogen content  the species-specific conversion factor  for fish, and shrimp was 5 6 for flours it was 5 4 and for total carbohydrate the result was not stoichiometric so the calibration curve was used to obtain the result  ttt eee ccc hhh nnn iii ccc aaa lll ppp rrr ooo fff iii ccc iii eee nnn ccc yyy instrument handled              spectrophotometer, incubator, centrifuge, autoclave, ph meter and light microscope molecular biological proficiency            use of biological safety cabinets, media and buffer preparation dna & rna isolation phytochemical extraction antioxidant activity tests free radical scavenging tests computational skills      python programing language, spss, presentation skills  expertise in ms word, excel, power point, outlook & internet applications  sss ccc hhh ooo lll aaa sss ttt iii ccc sss       june 2017- june 2019  m sc in biotechnology from shoolini university, solan  april 2014- april 2017  b sc from itm university, gwalior  12th science stream  2011-2013  & 10th science stream  2010-2011  from c b s e  board  aaa ccc hhh iii eee vvv eee mmm eee nnn ttt sss   attended 2 international seminar on  environment change  in itm university, gwalior    won school level quiz competition  2 times  in satya sai school    won bronze medal in state level martial arts  ppp eee rrr sss ooo nnn aaa lll ddd ooo sss sss iii eee rrr date of birth   09-06-1995 interests   playing badminton, chess, listening to music, travelling  marital status   single languages known   english, hindi  ankit chopra  '"
      ]
     },
     "execution_count": 12,
     "metadata": {},
     "output_type": "execute_result"
    }
   ],
   "source": [
    "all_cv[\"Ankit chopra CV.pdf\"]"
   ]
  },
  {
   "cell_type": "code",
   "execution_count": 15,
   "metadata": {
    "scrolled": true
   },
   "outputs": [
    {
     "data": {
      "text/plain": [
       "'contact www linkedin com in yashodharalal  linkedin  yashodharalal com  blog  justmarriedpleaseexcuse com  other  yashodhara lal head of marketing at dyson-india gurgaon, haryana, india summary top skills product development online marketing brand management certifications practitioner marketing faculty, bridge school of management publications sorting out sid  book  when love finds you peanut has a plan there s something about you  book  how i became a farmer s wife marketing and business leader with fifteen years experience across fmcg, dotcoms and technology domains  an srcc & iim-bangalore graduate, i spent six years at unilever gaining rich experience in brand innovation & activation  my stint of almost five years at hindustan times digital group enabled me to get a strong understanding of the area of digital marketing  since i ve had the opportunity to work on fmcg brands as well as in the dot-com and technology spaces, i bring a strong understanding of marketing fundamentals and strategy to internet-based businesses, as well as strong integrated marketing communications capabilities  i have also driven strategy and led execution in the rich areas of corporate social responsibility and diversity & inclusion in a global ites organization, building the team and applying several marketing principles to take the company s agenda to another level  i m particularly passionate about the use of consumer insight and data analysis for the purpose of decision-making  and am also a strong believer in constant experimentation and creativity for better business results  i m now spearheading marketing for the global technology company, dyson in india  experience dyson head of marketing-dyson, india july 2017 - present gurgaon, haryana, india spearheading marketing for dyson india, including research into and creation of the strategy for three categories across home, health and beauty  hired and built a strong team in marketing across category management, content page 1 of 4 and influencer marketing, events and digital  led the execution for a highly impactful introduction of the dyson technology range into the country and building awareness, consideration and conversion across a range of online and offline channels  genpact vice president, global csr & diversity december 2015 - june 2017  1 year 7 months  gurgaon, india created a vibrant, global corporate social responsibility strategy and lead execution of projects, ensuring efficient and impactful use of funding and leveraging the organisation s people power towards giving back to the community  our pillars include education & employability, diversity & inclusion and leveraging process excellence for social good  also responsible for driving diversity & inclusion with a special focus on gender diversity, supporting genpact s aim of becoming a truly gender- balanced organisation across all levels  especially enjoyed bringing principles of marketing, creative ideation, excellence in execution, communication and consumer insight to identify needs and drive projects across a wide spectrum of social causes  micromax infomatics ltd category head- tablets september 2014 - september 2015  1 year 1 month  gurgaon responsible for driving tablets business for micromax  built the team and revamped the category with the introduction of innovations - the laptab and the kid s tablet  tabby   ht media ltd marketing strategy planning for digital quotient  part of ht media  march 2013 - september 2013  7 months  gurgaon, india strategic, marketing and operations consulting for new digital businesses at the hindustan times internet arm  firefly eventures 4 years 3 months business head-desimartini com may 2011 - june 2012  1 year 2 months  page 2 of 4 business head for desimartini com, the movie review portal  led the revamp of the entire portal and positioning - improving the overall product experience & online marketing efforts resulted in increasing page views by more than 4 times in the period of one year, without any increase in marketing budgets  desimartini is currently a strong player in the movie review space  head of marketing, shine com april 2008 - may 2011  3 years 2 months  gurgaon, india led the marketing for one of ht media s first classifieds businesses, job portal shine com  led a team of online and brand marketers to build the candidate and recruiter propositions, with a strong focus on digital marketing strategy and execution  innovated to constantly improve performance on the parameters of active logins, website performance, and used search engine marketing, search engine optimisation, email and affiliate marketing and various other digital marketing practices and analytics to constantly improve cost and quality of acquisition  led to the creation of a 7 million strong database for shine com in just three years at an optimal cost of acquisition, and took shine to number three position in the industry  unilever brand manager 2002 - 2008  7 years  bangalore, mumbai handled a range of brand innovation and activation roles across tea and shampoo categories  successfully launched new product innovations,created communication, and other properties that led brands to significant growth  education indian institute of management, bangalore post grad diploma in management, marketing    2000 - 2002  shri ram college of commerce b com  hons , commerce    1997 - 2000  air force bal bharati school page 3 of 4 on the roll of honour for graduating with highest marks, commerce with maths    1984 - 1997  page 4 of 4 '"
      ]
     },
     "execution_count": 15,
     "metadata": {},
     "output_type": "execute_result"
    }
   ],
   "source": [
    "all_cv[\"Yashodhara Lal .pdf\"]"
   ]
  },
  {
   "cell_type": "code",
   "execution_count": null,
   "metadata": {},
   "outputs": [],
   "source": []
  }
 ],
 "metadata": {
  "kernelspec": {
   "display_name": "Python 3",
   "language": "python",
   "name": "python3"
  },
  "language_info": {
   "codemirror_mode": {
    "name": "ipython",
    "version": 3
   },
   "file_extension": ".py",
   "mimetype": "text/x-python",
   "name": "python",
   "nbconvert_exporter": "python",
   "pygments_lexer": "ipython3",
   "version": "3.7.6"
  }
 },
 "nbformat": 4,
 "nbformat_minor": 4
}
